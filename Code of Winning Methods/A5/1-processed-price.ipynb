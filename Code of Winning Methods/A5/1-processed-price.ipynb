{
 "cells": [
  {
   "cell_type": "code",
   "execution_count": 1,
   "metadata": {
    "_cell_guid": "b1076dfc-b9ad-4769-8c92-a6c4dae69d19",
    "_uuid": "8f2839f25d086af736a60e9eeb907d3b93b6e0e5"
   },
   "outputs": [],
   "source": [
    "# This Python 3 environment comes with many helpful analytics libraries installed\n",
    "# It is defined by the kaggle/python docker image: https://github.com/kaggle/docker-python\n",
    "# For example, here's several helpful packages to load in \n",
    "\n",
    "import numpy as np # linear algebra\n",
    "import pandas as pd # data processing, CSV file I/O (e.g. pd.read_csv)\n",
    "\n",
    "# Input data files are available in the \"../input/\" directory.\n",
    "# For example, running this (by clicking run or pressing Shift+Enter) will list all files under the input directory\n",
    "\n",
    "import os\n",
    "for dirname, _, filenames in os.walk('/kaggle/input'):\n",
    "    for filename in filenames:\n",
    "        print(os.path.join(dirname, filename))\n",
    "\n",
    "# Any results you write to the current directory are saved as output."
   ]
  },
  {
   "cell_type": "code",
   "execution_count": 2,
   "metadata": {
    "_cell_guid": "79c7e3d0-c299-4dcb-8224-4455121ee9b0",
    "_uuid": "d629ff2d2480ee46fbb7e2d37f6b5fab8052498a"
   },
   "outputs": [],
   "source": [
    "prices = pd.read_csv('./raw_data/sell_prices.csv')"
   ]
  },
  {
   "cell_type": "code",
   "execution_count": 3,
   "metadata": {},
   "outputs": [],
   "source": [
    "prices = prices.sort_values(by=['item_id','store_id','wm_yr_wk'])"
   ]
  },
  {
   "cell_type": "code",
   "execution_count": 4,
   "metadata": {},
   "outputs": [
    {
     "data": {
      "text/html": [
       "<div>\n",
       "<style scoped>\n",
       "    .dataframe tbody tr th:only-of-type {\n",
       "        vertical-align: middle;\n",
       "    }\n",
       "\n",
       "    .dataframe tbody tr th {\n",
       "        vertical-align: top;\n",
       "    }\n",
       "\n",
       "    .dataframe thead th {\n",
       "        text-align: right;\n",
       "    }\n",
       "</style>\n",
       "<table border=\"1\" class=\"dataframe\">\n",
       "  <thead>\n",
       "    <tr style=\"text-align: right;\">\n",
       "      <th></th>\n",
       "      <th>store_id</th>\n",
       "      <th>item_id</th>\n",
       "      <th>wm_yr_wk</th>\n",
       "      <th>sell_price</th>\n",
       "    </tr>\n",
       "  </thead>\n",
       "  <tbody>\n",
       "    <tr>\n",
       "      <th>1369612</th>\n",
       "      <td>CA_3</td>\n",
       "      <td>HOBBIES_1_149</td>\n",
       "      <td>11337</td>\n",
       "      <td>1.56</td>\n",
       "    </tr>\n",
       "    <tr>\n",
       "      <th>725555</th>\n",
       "      <td>CA_2</td>\n",
       "      <td>HOBBIES_1_118</td>\n",
       "      <td>11133</td>\n",
       "      <td>10.98</td>\n",
       "    </tr>\n",
       "    <tr>\n",
       "      <th>3293461</th>\n",
       "      <td>TX_1</td>\n",
       "      <td>FOODS_3_317</td>\n",
       "      <td>11247</td>\n",
       "      <td>1.00</td>\n",
       "    </tr>\n",
       "    <tr>\n",
       "      <th>2109401</th>\n",
       "      <td>CA_4</td>\n",
       "      <td>HOBBIES_1_371</td>\n",
       "      <td>11312</td>\n",
       "      <td>0.46</td>\n",
       "    </tr>\n",
       "    <tr>\n",
       "      <th>1306813</th>\n",
       "      <td>CA_2</td>\n",
       "      <td>FOODS_3_692</td>\n",
       "      <td>11410</td>\n",
       "      <td>0.80</td>\n",
       "    </tr>\n",
       "    <tr>\n",
       "      <th>70492</th>\n",
       "      <td>CA_1</td>\n",
       "      <td>HOBBIES_1_313</td>\n",
       "      <td>11240</td>\n",
       "      <td>1.23</td>\n",
       "    </tr>\n",
       "    <tr>\n",
       "      <th>5988323</th>\n",
       "      <td>WI_2</td>\n",
       "      <td>FOODS_3_118</td>\n",
       "      <td>11531</td>\n",
       "      <td>1.18</td>\n",
       "    </tr>\n",
       "    <tr>\n",
       "      <th>2995467</th>\n",
       "      <td>TX_1</td>\n",
       "      <td>HOUSEHOLD_2_173</td>\n",
       "      <td>11339</td>\n",
       "      <td>6.97</td>\n",
       "    </tr>\n",
       "    <tr>\n",
       "      <th>1228032</th>\n",
       "      <td>CA_2</td>\n",
       "      <td>FOODS_3_324</td>\n",
       "      <td>11236</td>\n",
       "      <td>3.34</td>\n",
       "    </tr>\n",
       "    <tr>\n",
       "      <th>3205689</th>\n",
       "      <td>TX_1</td>\n",
       "      <td>FOODS_2_332</td>\n",
       "      <td>11208</td>\n",
       "      <td>3.27</td>\n",
       "    </tr>\n",
       "  </tbody>\n",
       "</table>\n",
       "</div>"
      ],
      "text/plain": [
       "        store_id          item_id  wm_yr_wk  sell_price\n",
       "1369612     CA_3    HOBBIES_1_149     11337        1.56\n",
       "725555      CA_2    HOBBIES_1_118     11133       10.98\n",
       "3293461     TX_1      FOODS_3_317     11247        1.00\n",
       "2109401     CA_4    HOBBIES_1_371     11312        0.46\n",
       "1306813     CA_2      FOODS_3_692     11410        0.80\n",
       "70492       CA_1    HOBBIES_1_313     11240        1.23\n",
       "5988323     WI_2      FOODS_3_118     11531        1.18\n",
       "2995467     TX_1  HOUSEHOLD_2_173     11339        6.97\n",
       "1228032     CA_2      FOODS_3_324     11236        3.34\n",
       "3205689     TX_1      FOODS_2_332     11208        3.27"
      ]
     },
     "execution_count": 4,
     "metadata": {},
     "output_type": "execute_result"
    }
   ],
   "source": [
    "prices.sample(10)"
   ]
  },
  {
   "cell_type": "code",
   "execution_count": 5,
   "metadata": {},
   "outputs": [],
   "source": [
    "for win in [1, 2, 4, 8]:\n",
    "    prices['rm_diff_price_{}'.format(win)] = prices[[\"store_id\",\"item_id\",\"sell_price\"]].groupby(\n",
    "        [\"store_id\",\"item_id\"])[\"sell_price\"].transform(lambda x : x.rolling(win).mean())\n",
    "    prices['rm_diff_price_{}'.format(win)] = ((prices['sell_price'] - prices['rm_diff_price_{}'.format(win)])/prices['sell_price']).round(3)"
   ]
  },
  {
   "cell_type": "code",
   "execution_count": null,
   "metadata": {},
   "outputs": [],
   "source": [
    "prices.iloc[80:100]"
   ]
  },
  {
   "cell_type": "code",
   "execution_count": 7,
   "metadata": {},
   "outputs": [],
   "source": [
    "prices.to_csv('./proc_data/prices_processed.csv', index=False)"
   ]
  }
 ],
 "metadata": {
  "kernelspec": {
   "display_name": "Python 3",
   "language": "python",
   "name": "python3"
  },
  "language_info": {
   "codemirror_mode": {
    "name": "ipython",
    "version": 3
   },
   "file_extension": ".py",
   "mimetype": "text/x-python",
   "name": "python",
   "nbconvert_exporter": "python",
   "pygments_lexer": "ipython3",
   "version": "3.6.5"
  }
 },
 "nbformat": 4,
 "nbformat_minor": 4
}
